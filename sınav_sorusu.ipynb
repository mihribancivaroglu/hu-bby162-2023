{
  "nbformat": 4,
  "nbformat_minor": 0,
  "metadata": {
    "colab": {
      "provenance": [],
      "authorship_tag": "ABX9TyOC9UrZkseZzZe+a759w7Zh",
      "include_colab_link": true
    },
    "kernelspec": {
      "name": "python3",
      "display_name": "Python 3"
    },
    "language_info": {
      "name": "python"
    }
  },
  "cells": [
    {
      "cell_type": "markdown",
      "metadata": {
        "id": "view-in-github",
        "colab_type": "text"
      },
      "source": [
        "<a href=\"https://colab.research.google.com/github/mihribancivaroglu/hu-bby162-2023/blob/main/s%C4%B1nav_sorusu.ipynb\" target=\"_parent\"><img src=\"https://colab.research.google.com/assets/colab-badge.svg\" alt=\"Open In Colab\"/></a>"
      ]
    },
    {
      "cell_type": "code",
      "execution_count": null,
      "metadata": {
        "id": "KfAhHfVuV3mf"
      },
      "outputs": [],
      "source": [
        "#SINAVDA YAPAMAMIŞTIM İÇİMDE KALDI!!!!!\n",
        "\n",
        "print(\"Pablo Picasso öldüğünde kaç yaşındaydı?\")\n",
        "cevap = \"92\"\n",
        "\n",
        "x = 5\n",
        "\n",
        "while x != 0:\n",
        "\n",
        "  yanit = input(\"Cevabınızı giriniz.\")\n",
        "  if cevap!=yanit:\n",
        "    x -= 1\n",
        "    print(\"Yanlış bildiniz. Kalan hak: \", x)\n",
        "  elif cevap == yanit:\n",
        "    print(\"Tebrikler! Doğru bildiniz.\")\n",
        "    break"
      ]
    }
  ]
}