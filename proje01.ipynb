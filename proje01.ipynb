{
  "nbformat": 4,
  "nbformat_minor": 0,
  "metadata": {
    "colab": {
      "provenance": [],
      "authorship_tag": "ABX9TyOab09r+/3Ov0LNUjM1vvjE",
      "include_colab_link": true
    },
    "kernelspec": {
      "name": "python3",
      "display_name": "Python 3"
    },
    "language_info": {
      "name": "python"
    }
  },
  "cells": [
    {
      "cell_type": "markdown",
      "metadata": {
        "id": "view-in-github",
        "colab_type": "text"
      },
      "source": [
        "<a href=\"https://colab.research.google.com/github/mihribancivaroglu/hu-bby162-2023/blob/main/proje01.ipynb\" target=\"_parent\"><img src=\"https://colab.research.google.com/assets/colab-badge.svg\" alt=\"Open In Colab\"/></a>"
      ]
    },
    {
      "cell_type": "code",
      "source": [
        "aksamYemegi = [\"mercimek çorbası\", \"fırında tavuk\", \"şehriye pilavı\", \"cacık\"]\n",
        "print(aksamYemegi)\n",
        "\n",
        "#yeni yemek ekleme\n",
        "aksamYemegi.append(\"salata\")\n",
        "print(aksamYemegi)\n",
        "\n",
        "#yeni yemek ekleme\n",
        "yeniyemek = input(\"Akşam yemeği menüsüne eklemek istediğiniz yiyeceği yazınız. \")\n",
        "aksamYemegi.append(yeniyemek)\n",
        "print(yeniyemek)\n",
        "\n"
      ],
      "metadata": {
        "colab": {
          "base_uri": "https://localhost:8080/"
        },
        "id": "quzn_b7zsz7D",
        "outputId": "38c0f5d9-84b5-44cb-c122-8c8bb3a2f010"
      },
      "execution_count": null,
      "outputs": [
        {
          "output_type": "stream",
          "name": "stdout",
          "text": [
            "['mercimek çorbası', 'fırında tavuk', 'şehriye pilavı', 'cacık']\n",
            "['mercimek çorbası', 'fırında tavuk', 'şehriye pilavı', 'cacık', 'salata']\n",
            "Akşam yemeği menüsüne eklemek istediğiniz yiyeceği yazınız. dfghjkl\n",
            "dfghjkl\n"
          ]
        }
      ]
    },
    {
      "cell_type": "code",
      "source": [
        "#listeden yemek silme\n",
        "yeniyemek = ['mercimek çorbası', 'fırında tavuk', 'şehriye pilavı', 'cacık', 'salata']\n",
        "del yeniyemek[2]\n",
        "print(yeniyemek)"
      ],
      "metadata": {
        "colab": {
          "base_uri": "https://localhost:8080/"
        },
        "id": "KyVByyRstTG8",
        "outputId": "df24e9c4-b6f6-4fa9-afb9-3553c294d8c9"
      },
      "execution_count": null,
      "outputs": [
        {
          "output_type": "stream",
          "name": "stdout",
          "text": [
            "['mercimek çorbası', 'fırında tavuk', 'cacık', 'salata']\n"
          ]
        }
      ]
    },
    {
      "cell_type": "code",
      "source": [
        "#tüm listeyi silme\n",
        "yeniyemek = ['mercimek çorbası', 'fırında tavuk', 'şehriye pilavı', 'cacık', 'salata']\n",
        "del yeniyemek[:]\n",
        "print(yeniyemek)"
      ],
      "metadata": {
        "colab": {
          "base_uri": "https://localhost:8080/"
        },
        "id": "pT5_y-P2tzun",
        "outputId": "be3eca4f-cf5d-4c5e-da5f-2c58c1f28c61"
      },
      "execution_count": null,
      "outputs": [
        {
          "output_type": "stream",
          "name": "stdout",
          "text": [
            "[]\n"
          ]
        }
      ]
    }
  ]
}